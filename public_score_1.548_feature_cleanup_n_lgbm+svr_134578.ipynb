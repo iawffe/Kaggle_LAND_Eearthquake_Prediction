{
 "cells": [
  {
   "cell_type": "code",
   "execution_count": 1,
   "metadata": {},
   "outputs": [],
   "source": [
    "import os\n",
    "import sys\n",
    "import glob\n",
    "import numpy as np\n",
    "import pandas as pd\n",
    "import seaborn as sns\n",
    "from pprint import pprint\n",
    "import matplotlib.pyplot as plt\n",
    "from tqdm import tqdm_notebook as tqdm\n",
    "\n",
    "import pickle\n",
    "from sklearn.model_selection import cross_val_score\n",
    "from sklearn.model_selection import train_test_split\n",
    "from sklearn.model_selection import TimeSeriesSplit\n",
    "from sklearn.model_selection import KFold\n",
    "from sklearn.metrics import mean_absolute_error\n",
    "from skopt import gp_minimize\n",
    "\n",
    "import lightgbm as lgb\n",
    "from skopt import BayesSearchCV\n",
    "from sklearn.svm import SVR"
   ]
  },
  {
   "cell_type": "markdown",
   "metadata": {},
   "source": [
    "The purpose of this notebook is to examine the tsfresh 788 features created from the LANL time series\n",
    "We want to remove the features that dont have much value (e.g., mostly 0)"
   ]
  },
  {
   "cell_type": "code",
   "execution_count": 2,
   "metadata": {},
   "outputs": [
    {
     "name": "stdout",
     "output_type": "stream",
     "text": [
      "(3000, 788)\n"
     ]
    }
   ],
   "source": [
    "X_train1 = pd.read_pickle(\"Xtf_train1.pkl\")\n",
    "X_train3 = pd.read_pickle(\"Xtf_train3.pkl\")\n",
    "X_train4 = pd.read_pickle(\"Xtf_train4.pkl\")\n",
    "\n",
    "X1_train = pd.concat([X_train1, X_train3, X_train4], ignore_index=True)\n",
    "X1_train.reset_index(drop=True)\n",
    "print(X1_train.shape)\n"
   ]
  },
  {
   "cell_type": "code",
   "execution_count": 3,
   "metadata": {},
   "outputs": [
    {
     "name": "stdout",
     "output_type": "stream",
     "text": [
      "(788,)\n"
     ]
    }
   ],
   "source": [
    "temp =X1_train.astype(bool).sum(axis=0)\n",
    "# look for feature % that has valid values\n",
    "temp = 100*temp/X1_train.shape[0]\n",
    "print(temp.shape)"
   ]
  },
  {
   "cell_type": "code",
   "execution_count": 4,
   "metadata": {},
   "outputs": [
    {
     "data": {
      "text/plain": [
       "71"
      ]
     },
     "execution_count": 4,
     "metadata": {},
     "output_type": "execute_result"
    }
   ],
   "source": [
    "len(temp[temp<50])"
   ]
  },
  {
   "cell_type": "code",
   "execution_count": 5,
   "metadata": {},
   "outputs": [],
   "source": [
    "feature2drop = temp[temp<50].index.tolist()"
   ]
  },
  {
   "cell_type": "code",
   "execution_count": 6,
   "metadata": {},
   "outputs": [
    {
     "name": "stdout",
     "output_type": "stream",
     "text": [
      "(3000, 717)\n"
     ]
    }
   ],
   "source": [
    "X1_train_reduced = X1_train.drop(feature2drop,axis=1)\n",
    "print(X1_train_reduced.shape)"
   ]
  },
  {
   "cell_type": "code",
   "execution_count": 7,
   "metadata": {},
   "outputs": [
    {
     "name": "stdout",
     "output_type": "stream",
     "text": [
      "(3000,)\n"
     ]
    }
   ],
   "source": [
    "y1_train_1 = pd.read_pickle(\"y_train1.pkl\")[0:1000]\n",
    "y1_train_2 = pd.read_pickle(\"y_train1.pkl\")[2000:4000]\n",
    "y1_train = pd.concat([y1_train_1, y1_train_2], ignore_index=True)\n",
    "y1_train.reset_index(drop=True)\n",
    "print(y1_train.shape)"
   ]
  },
  {
   "cell_type": "code",
   "execution_count": 8,
   "metadata": {},
   "outputs": [
    {
     "name": "stdout",
     "output_type": "stream",
     "text": [
      "(2400, 717) (2400,)\n",
      "(600, 717) (600,)\n"
     ]
    }
   ],
   "source": [
    "XX1_train, XX1_test, yy1_train, yy1_test = train_test_split(X1_train_reduced , y1_train, test_size=0.2, random_state=42)\n",
    "print(XX1_train.shape, yy1_train.shape)\n",
    "print(XX1_test.shape, yy1_test.shape)"
   ]
  },
  {
   "cell_type": "markdown",
   "metadata": {},
   "source": [
    "---"
   ]
  },
  {
   "cell_type": "code",
   "execution_count": 9,
   "metadata": {},
   "outputs": [],
   "source": [
    "def status_print(optim_result):\n",
    "    \"\"\"Status callback durring bayesian hyperparameter search\"\"\"\n",
    "    \n",
    "    # Get all the models tested so far in DataFrame format\n",
    "    all_models = pd.DataFrame(bayes_cv_tuner.cv_results_)    \n",
    "    \n",
    "    # Get current parameters and the best parameters    \n",
    "    best_params = pd.Series(bayes_cv_tuner.best_params_)\n",
    "    print('Model #{}\\nBest MAE: {}\\nBest params: {}\\n'.format(\n",
    "        len(all_models),\n",
    "        np.round(bayes_cv_tuner.best_score_, 4),\n",
    "        bayes_cv_tuner.best_params_\n",
    "    ))"
   ]
  },
  {
   "cell_type": "code",
   "execution_count": 10,
   "metadata": {},
   "outputs": [],
   "source": [
    "# reference\n",
    "# https://www.kaggle.com/nanomathias/bayesian-optimization-of-xgboost-lb-0-9769\n",
    "\n",
    "bayes_cv_tuner = BayesSearchCV(\n",
    "    estimator = lgb.LGBMRegressor(\n",
    "        objective='regression',\n",
    "        metric='mae',\n",
    "        num_threads=4,\n",
    "    ),\n",
    "    search_spaces = {\n",
    "        'learning_rate': (0.01,0.05, 'uniform'),\n",
    "        'num_leaves': (2, 256),      \n",
    "        'max_depth': (2, 20),\n",
    "        'subsample': (0.01, 1.0, 'uniform'),\n",
    "        'subsample_freq': (0, 10),\n",
    "        'colsample_bytree': (0.01, 1.0, 'uniform'),\n",
    "        'min_child_weight': (0, 10),\n",
    "        'reg_lambda': (1e-9, 1000, 'log-uniform'),\n",
    "        'reg_alpha': (1e-9, 1.0, 'log-uniform'),\n",
    "        'n_estimators': (10, 5000),\n",
    "        'feature_fraction': (0.5, 1.0),\n",
    "        'bagging_fraction': (0.5, 1.0)\n",
    "    },    \n",
    "    scoring = 'neg_mean_absolute_error',\n",
    "    cv = TimeSeriesSplit(n_splits=10),\n",
    "    n_iter = 30,   \n",
    "    verbose = 0,\n",
    "    refit = True,\n",
    "    random_state = 42\n",
    ")"
   ]
  },
  {
   "cell_type": "code",
   "execution_count": 11,
   "metadata": {},
   "outputs": [
    {
     "name": "stdout",
     "output_type": "stream",
     "text": [
      "Model #1\n",
      "Best MAE: -1.9128\n",
      "Best params: {'bagging_fraction': 0.705051979426657, 'colsample_bytree': 0.7304484857455519, 'feature_fraction': 0.966433999423917, 'learning_rate': 0.02263198373948195, 'max_depth': 14, 'min_child_weight': 4, 'n_estimators': 1761, 'num_leaves': 190, 'reg_alpha': 5.497557739289786e-07, 'reg_lambda': 0.05936070635912049, 'subsample': 0.5544643023916863, 'subsample_freq': 1}\n",
      "\n",
      "Model #2\n",
      "Best MAE: -1.9121\n",
      "Best params: {'bagging_fraction': 0.9186941777766422, 'colsample_bytree': 0.8844821246070537, 'feature_fraction': 0.6517050549420875, 'learning_rate': 0.04804895626373318, 'max_depth': 18, 'min_child_weight': 1, 'n_estimators': 700, 'num_leaves': 92, 'reg_alpha': 0.0005266983003701547, 'reg_lambda': 276.5424475574225, 'subsample': 0.6336020558163782, 'subsample_freq': 10}\n",
      "\n",
      "Model #3\n",
      "Best MAE: -1.9053\n",
      "Best params: {'bagging_fraction': 0.7224162561505759, 'colsample_bytree': 0.9195352964526833, 'feature_fraction': 0.5524295792763518, 'learning_rate': 0.027333312074809005, 'max_depth': 5, 'min_child_weight': 5, 'n_estimators': 786, 'num_leaves': 193, 'reg_alpha': 0.00010376808625045426, 'reg_lambda': 476.96194787286544, 'subsample': 0.7064328557952411, 'subsample_freq': 4}\n",
      "\n",
      "Model #4\n",
      "Best MAE: -1.8965\n",
      "Best params: {'bagging_fraction': 0.9061979941786817, 'colsample_bytree': 0.1801528457825951, 'feature_fraction': 0.799023538756064, 'learning_rate': 0.042110591246252424, 'max_depth': 11, 'min_child_weight': 1, 'n_estimators': 3781, 'num_leaves': 224, 'reg_alpha': 0.1611980387486336, 'reg_lambda': 4.3806965488564525e-05, 'subsample': 0.34817978468161015, 'subsample_freq': 8}\n",
      "\n",
      "Model #5\n",
      "Best MAE: -1.8965\n",
      "Best params: {'bagging_fraction': 0.9061979941786817, 'colsample_bytree': 0.1801528457825951, 'feature_fraction': 0.799023538756064, 'learning_rate': 0.042110591246252424, 'max_depth': 11, 'min_child_weight': 1, 'n_estimators': 3781, 'num_leaves': 224, 'reg_alpha': 0.1611980387486336, 'reg_lambda': 4.3806965488564525e-05, 'subsample': 0.34817978468161015, 'subsample_freq': 8}\n",
      "\n",
      "Model #6\n",
      "Best MAE: -1.8824\n",
      "Best params: {'bagging_fraction': 0.8670140089927842, 'colsample_bytree': 0.9399760402267441, 'feature_fraction': 0.5818035893192751, 'learning_rate': 0.017537011670617206, 'max_depth': 16, 'min_child_weight': 4, 'n_estimators': 2301, 'num_leaves': 138, 'reg_alpha': 0.011683028450342707, 'reg_lambda': 0.0048879464985534336, 'subsample': 0.5930070264428381, 'subsample_freq': 6}\n",
      "\n",
      "Model #7\n",
      "Best MAE: -1.8824\n",
      "Best params: {'bagging_fraction': 0.8670140089927842, 'colsample_bytree': 0.9399760402267441, 'feature_fraction': 0.5818035893192751, 'learning_rate': 0.017537011670617206, 'max_depth': 16, 'min_child_weight': 4, 'n_estimators': 2301, 'num_leaves': 138, 'reg_alpha': 0.011683028450342707, 'reg_lambda': 0.0048879464985534336, 'subsample': 0.5930070264428381, 'subsample_freq': 6}\n",
      "\n",
      "Model #8\n",
      "Best MAE: -1.8824\n",
      "Best params: {'bagging_fraction': 0.8670140089927842, 'colsample_bytree': 0.9399760402267441, 'feature_fraction': 0.5818035893192751, 'learning_rate': 0.017537011670617206, 'max_depth': 16, 'min_child_weight': 4, 'n_estimators': 2301, 'num_leaves': 138, 'reg_alpha': 0.011683028450342707, 'reg_lambda': 0.0048879464985534336, 'subsample': 0.5930070264428381, 'subsample_freq': 6}\n",
      "\n",
      "Model #9\n",
      "Best MAE: -1.8824\n",
      "Best params: {'bagging_fraction': 0.8670140089927842, 'colsample_bytree': 0.9399760402267441, 'feature_fraction': 0.5818035893192751, 'learning_rate': 0.017537011670617206, 'max_depth': 16, 'min_child_weight': 4, 'n_estimators': 2301, 'num_leaves': 138, 'reg_alpha': 0.011683028450342707, 'reg_lambda': 0.0048879464985534336, 'subsample': 0.5930070264428381, 'subsample_freq': 6}\n",
      "\n",
      "Model #10\n",
      "Best MAE: -1.8824\n",
      "Best params: {'bagging_fraction': 0.8670140089927842, 'colsample_bytree': 0.9399760402267441, 'feature_fraction': 0.5818035893192751, 'learning_rate': 0.017537011670617206, 'max_depth': 16, 'min_child_weight': 4, 'n_estimators': 2301, 'num_leaves': 138, 'reg_alpha': 0.011683028450342707, 'reg_lambda': 0.0048879464985534336, 'subsample': 0.5930070264428381, 'subsample_freq': 6}\n",
      "\n",
      "Model #11\n",
      "Best MAE: -1.8824\n",
      "Best params: {'bagging_fraction': 0.8670140089927842, 'colsample_bytree': 0.9399760402267441, 'feature_fraction': 0.5818035893192751, 'learning_rate': 0.017537011670617206, 'max_depth': 16, 'min_child_weight': 4, 'n_estimators': 2301, 'num_leaves': 138, 'reg_alpha': 0.011683028450342707, 'reg_lambda': 0.0048879464985534336, 'subsample': 0.5930070264428381, 'subsample_freq': 6}\n",
      "\n",
      "Model #12\n",
      "Best MAE: -1.8824\n",
      "Best params: {'bagging_fraction': 0.8670140089927842, 'colsample_bytree': 0.9399760402267441, 'feature_fraction': 0.5818035893192751, 'learning_rate': 0.017537011670617206, 'max_depth': 16, 'min_child_weight': 4, 'n_estimators': 2301, 'num_leaves': 138, 'reg_alpha': 0.011683028450342707, 'reg_lambda': 0.0048879464985534336, 'subsample': 0.5930070264428381, 'subsample_freq': 6}\n",
      "\n",
      "Model #13\n",
      "Best MAE: -1.8824\n",
      "Best params: {'bagging_fraction': 0.8670140089927842, 'colsample_bytree': 0.9399760402267441, 'feature_fraction': 0.5818035893192751, 'learning_rate': 0.017537011670617206, 'max_depth': 16, 'min_child_weight': 4, 'n_estimators': 2301, 'num_leaves': 138, 'reg_alpha': 0.011683028450342707, 'reg_lambda': 0.0048879464985534336, 'subsample': 0.5930070264428381, 'subsample_freq': 6}\n",
      "\n",
      "Model #14\n",
      "Best MAE: -1.8824\n",
      "Best params: {'bagging_fraction': 0.8670140089927842, 'colsample_bytree': 0.9399760402267441, 'feature_fraction': 0.5818035893192751, 'learning_rate': 0.017537011670617206, 'max_depth': 16, 'min_child_weight': 4, 'n_estimators': 2301, 'num_leaves': 138, 'reg_alpha': 0.011683028450342707, 'reg_lambda': 0.0048879464985534336, 'subsample': 0.5930070264428381, 'subsample_freq': 6}\n",
      "\n",
      "Model #15\n",
      "Best MAE: -1.8824\n",
      "Best params: {'bagging_fraction': 0.8670140089927842, 'colsample_bytree': 0.9399760402267441, 'feature_fraction': 0.5818035893192751, 'learning_rate': 0.017537011670617206, 'max_depth': 16, 'min_child_weight': 4, 'n_estimators': 2301, 'num_leaves': 138, 'reg_alpha': 0.011683028450342707, 'reg_lambda': 0.0048879464985534336, 'subsample': 0.5930070264428381, 'subsample_freq': 6}\n",
      "\n",
      "Model #16\n",
      "Best MAE: -1.8824\n",
      "Best params: {'bagging_fraction': 0.8670140089927842, 'colsample_bytree': 0.9399760402267441, 'feature_fraction': 0.5818035893192751, 'learning_rate': 0.017537011670617206, 'max_depth': 16, 'min_child_weight': 4, 'n_estimators': 2301, 'num_leaves': 138, 'reg_alpha': 0.011683028450342707, 'reg_lambda': 0.0048879464985534336, 'subsample': 0.5930070264428381, 'subsample_freq': 6}\n",
      "\n",
      "Model #17\n",
      "Best MAE: -1.8824\n",
      "Best params: {'bagging_fraction': 0.8670140089927842, 'colsample_bytree': 0.9399760402267441, 'feature_fraction': 0.5818035893192751, 'learning_rate': 0.017537011670617206, 'max_depth': 16, 'min_child_weight': 4, 'n_estimators': 2301, 'num_leaves': 138, 'reg_alpha': 0.011683028450342707, 'reg_lambda': 0.0048879464985534336, 'subsample': 0.5930070264428381, 'subsample_freq': 6}\n",
      "\n",
      "Model #18\n",
      "Best MAE: -1.8824\n",
      "Best params: {'bagging_fraction': 0.8670140089927842, 'colsample_bytree': 0.9399760402267441, 'feature_fraction': 0.5818035893192751, 'learning_rate': 0.017537011670617206, 'max_depth': 16, 'min_child_weight': 4, 'n_estimators': 2301, 'num_leaves': 138, 'reg_alpha': 0.011683028450342707, 'reg_lambda': 0.0048879464985534336, 'subsample': 0.5930070264428381, 'subsample_freq': 6}\n",
      "\n",
      "Model #19\n",
      "Best MAE: -1.8824\n",
      "Best params: {'bagging_fraction': 0.8670140089927842, 'colsample_bytree': 0.9399760402267441, 'feature_fraction': 0.5818035893192751, 'learning_rate': 0.017537011670617206, 'max_depth': 16, 'min_child_weight': 4, 'n_estimators': 2301, 'num_leaves': 138, 'reg_alpha': 0.011683028450342707, 'reg_lambda': 0.0048879464985534336, 'subsample': 0.5930070264428381, 'subsample_freq': 6}\n",
      "\n",
      "Model #20\n",
      "Best MAE: -1.8824\n",
      "Best params: {'bagging_fraction': 0.8670140089927842, 'colsample_bytree': 0.9399760402267441, 'feature_fraction': 0.5818035893192751, 'learning_rate': 0.017537011670617206, 'max_depth': 16, 'min_child_weight': 4, 'n_estimators': 2301, 'num_leaves': 138, 'reg_alpha': 0.011683028450342707, 'reg_lambda': 0.0048879464985534336, 'subsample': 0.5930070264428381, 'subsample_freq': 6}\n",
      "\n",
      "Model #21\n",
      "Best MAE: -1.8824\n",
      "Best params: {'bagging_fraction': 0.8670140089927842, 'colsample_bytree': 0.9399760402267441, 'feature_fraction': 0.5818035893192751, 'learning_rate': 0.017537011670617206, 'max_depth': 16, 'min_child_weight': 4, 'n_estimators': 2301, 'num_leaves': 138, 'reg_alpha': 0.011683028450342707, 'reg_lambda': 0.0048879464985534336, 'subsample': 0.5930070264428381, 'subsample_freq': 6}\n"
     ]
    },
    {
     "name": "stdout",
     "output_type": "stream",
     "text": [
      "\n",
      "Model #22\n",
      "Best MAE: -1.8824\n",
      "Best params: {'bagging_fraction': 0.8670140089927842, 'colsample_bytree': 0.9399760402267441, 'feature_fraction': 0.5818035893192751, 'learning_rate': 0.017537011670617206, 'max_depth': 16, 'min_child_weight': 4, 'n_estimators': 2301, 'num_leaves': 138, 'reg_alpha': 0.011683028450342707, 'reg_lambda': 0.0048879464985534336, 'subsample': 0.5930070264428381, 'subsample_freq': 6}\n",
      "\n",
      "Model #23\n",
      "Best MAE: -1.8824\n",
      "Best params: {'bagging_fraction': 0.8670140089927842, 'colsample_bytree': 0.9399760402267441, 'feature_fraction': 0.5818035893192751, 'learning_rate': 0.017537011670617206, 'max_depth': 16, 'min_child_weight': 4, 'n_estimators': 2301, 'num_leaves': 138, 'reg_alpha': 0.011683028450342707, 'reg_lambda': 0.0048879464985534336, 'subsample': 0.5930070264428381, 'subsample_freq': 6}\n",
      "\n",
      "Model #24\n",
      "Best MAE: -1.8824\n",
      "Best params: {'bagging_fraction': 0.8670140089927842, 'colsample_bytree': 0.9399760402267441, 'feature_fraction': 0.5818035893192751, 'learning_rate': 0.017537011670617206, 'max_depth': 16, 'min_child_weight': 4, 'n_estimators': 2301, 'num_leaves': 138, 'reg_alpha': 0.011683028450342707, 'reg_lambda': 0.0048879464985534336, 'subsample': 0.5930070264428381, 'subsample_freq': 6}\n",
      "\n",
      "Model #25\n",
      "Best MAE: -1.8824\n",
      "Best params: {'bagging_fraction': 0.8670140089927842, 'colsample_bytree': 0.9399760402267441, 'feature_fraction': 0.5818035893192751, 'learning_rate': 0.017537011670617206, 'max_depth': 16, 'min_child_weight': 4, 'n_estimators': 2301, 'num_leaves': 138, 'reg_alpha': 0.011683028450342707, 'reg_lambda': 0.0048879464985534336, 'subsample': 0.5930070264428381, 'subsample_freq': 6}\n",
      "\n",
      "Model #26\n",
      "Best MAE: -1.8824\n",
      "Best params: {'bagging_fraction': 0.8670140089927842, 'colsample_bytree': 0.9399760402267441, 'feature_fraction': 0.5818035893192751, 'learning_rate': 0.017537011670617206, 'max_depth': 16, 'min_child_weight': 4, 'n_estimators': 2301, 'num_leaves': 138, 'reg_alpha': 0.011683028450342707, 'reg_lambda': 0.0048879464985534336, 'subsample': 0.5930070264428381, 'subsample_freq': 6}\n",
      "\n",
      "Model #27\n",
      "Best MAE: -1.8824\n",
      "Best params: {'bagging_fraction': 0.8670140089927842, 'colsample_bytree': 0.9399760402267441, 'feature_fraction': 0.5818035893192751, 'learning_rate': 0.017537011670617206, 'max_depth': 16, 'min_child_weight': 4, 'n_estimators': 2301, 'num_leaves': 138, 'reg_alpha': 0.011683028450342707, 'reg_lambda': 0.0048879464985534336, 'subsample': 0.5930070264428381, 'subsample_freq': 6}\n",
      "\n",
      "Model #28\n",
      "Best MAE: -1.8824\n",
      "Best params: {'bagging_fraction': 0.8670140089927842, 'colsample_bytree': 0.9399760402267441, 'feature_fraction': 0.5818035893192751, 'learning_rate': 0.017537011670617206, 'max_depth': 16, 'min_child_weight': 4, 'n_estimators': 2301, 'num_leaves': 138, 'reg_alpha': 0.011683028450342707, 'reg_lambda': 0.0048879464985534336, 'subsample': 0.5930070264428381, 'subsample_freq': 6}\n",
      "\n",
      "Model #29\n",
      "Best MAE: -1.8788\n",
      "Best params: {'bagging_fraction': 0.9909288549451587, 'colsample_bytree': 0.5140338264489366, 'feature_fraction': 0.5, 'learning_rate': 0.02268051198931534, 'max_depth': 13, 'min_child_weight': 5, 'n_estimators': 2956, 'num_leaves': 163, 'reg_alpha': 0.01615836660932548, 'reg_lambda': 1.4389764733397212e-08, 'subsample': 0.6305589558406525, 'subsample_freq': 10}\n",
      "\n",
      "Model #30\n",
      "Best MAE: -1.8788\n",
      "Best params: {'bagging_fraction': 0.9909288549451587, 'colsample_bytree': 0.5140338264489366, 'feature_fraction': 0.5, 'learning_rate': 0.02268051198931534, 'max_depth': 13, 'min_child_weight': 5, 'n_estimators': 2956, 'num_leaves': 163, 'reg_alpha': 0.01615836660932548, 'reg_lambda': 1.4389764733397212e-08, 'subsample': 0.6305589558406525, 'subsample_freq': 10}\n",
      "\n"
     ]
    }
   ],
   "source": [
    "result = bayes_cv_tuner.fit(XX1_train, yy1_train, callback=status_print)"
   ]
  },
  {
   "cell_type": "code",
   "execution_count": 12,
   "metadata": {},
   "outputs": [
    {
     "name": "stdout",
     "output_type": "stream",
     "text": [
      "-1.8787537289197256\n",
      "{'bagging_fraction': 0.9909288549451587, 'colsample_bytree': 0.5140338264489366, 'feature_fraction': 0.5, 'learning_rate': 0.02268051198931534, 'max_depth': 13, 'min_child_weight': 5, 'n_estimators': 2956, 'num_leaves': 163, 'reg_alpha': 0.01615836660932548, 'reg_lambda': 1.4389764733397212e-08, 'subsample': 0.6305589558406525, 'subsample_freq': 10}\n"
     ]
    }
   ],
   "source": [
    "print(result.best_score_)\n",
    "print(result.best_params_)"
   ]
  },
  {
   "cell_type": "code",
   "execution_count": 13,
   "metadata": {},
   "outputs": [],
   "source": [
    "lgb_model1 = result.best_estimator_"
   ]
  },
  {
   "cell_type": "code",
   "execution_count": 14,
   "metadata": {},
   "outputs": [
    {
     "name": "stdout",
     "output_type": "stream",
     "text": [
      "1.807619894739364\n"
     ]
    }
   ],
   "source": [
    "yy_test_hat = lgb_model1.predict(XX1_test)\n",
    "lgb_MAE1 = mean_absolute_error(yy1_test, yy_test_hat)\n",
    "print(lgb_MAE1)"
   ]
  },
  {
   "cell_type": "markdown",
   "metadata": {},
   "source": [
    "with open('lgb1_bo.pkl', 'wb') as fid:\n",
    "    pickle.dump(lgb_model1, fid)"
   ]
  },
  {
   "cell_type": "code",
   "execution_count": 15,
   "metadata": {},
   "outputs": [
    {
     "name": "stdout",
     "output_type": "stream",
     "text": [
      "1.7788005251875316\n"
     ]
    }
   ],
   "source": [
    "# add a default lgb model\n",
    "lgb_model1d = lgb.LGBMRegressor(boosting_type='gbdt', object='regression', random_state=42)\n",
    "lgb_model1d.fit(XX1_train, yy1_train, eval_metric='mae')\n",
    "yy_test_hat = lgb_model1d.predict(XX1_test)\n",
    "lgb_MAE1d = mean_absolute_error(yy1_test, yy_test_hat)\n",
    "print(lgb_MAE1d)"
   ]
  },
  {
   "cell_type": "markdown",
   "metadata": {},
   "source": [
    "with open('lgb1_default.pkl', 'wb') as fid:\n",
    "    pickle.dump(lgb_model1d, fid)"
   ]
  },
  {
   "cell_type": "markdown",
   "metadata": {},
   "source": [
    "---"
   ]
  },
  {
   "cell_type": "markdown",
   "metadata": {},
   "source": [
    "Second LGB Model with 2nd 4000 sample data"
   ]
  },
  {
   "cell_type": "code",
   "execution_count": 17,
   "metadata": {},
   "outputs": [
    {
     "name": "stdout",
     "output_type": "stream",
     "text": [
      "(3000, 788)\n",
      "(3000, 717)\n"
     ]
    }
   ],
   "source": [
    "X_train5 = pd.read_pickle(\"Xtf_train11.pkl\")\n",
    "X_train7 = pd.read_pickle(\"Xtf_train33.pkl\")\n",
    "X_train8 = pd.read_pickle(\"Xtf_train44.pkl\")\n",
    "X2_train = pd.concat([X_train5, X_train7, X_train8], ignore_index=True)\n",
    "X2_train.reset_index(drop=True)\n",
    "print(X2_train.shape)\n",
    "X2_train_reduced = X2_train.drop(feature2drop,axis=1)\n",
    "print(X2_train_reduced.shape)"
   ]
  },
  {
   "cell_type": "code",
   "execution_count": 18,
   "metadata": {},
   "outputs": [
    {
     "name": "stdout",
     "output_type": "stream",
     "text": [
      "(3000,)\n"
     ]
    }
   ],
   "source": [
    "y2_train_1 = pd.read_pickle(\"y_train2.pkl\")[0:1000]\n",
    "y2_train_2 = pd.read_pickle(\"y_train2.pkl\")[2000:4000]\n",
    "y2_train = pd.concat([y2_train_1, y2_train_2], ignore_index=True)\n",
    "y2_train.reset_index(drop=True)\n",
    "print(y2_train.shape)"
   ]
  },
  {
   "cell_type": "code",
   "execution_count": 19,
   "metadata": {},
   "outputs": [
    {
     "name": "stdout",
     "output_type": "stream",
     "text": [
      "(2400, 717) (2400,)\n",
      "(600, 717) (600,)\n"
     ]
    }
   ],
   "source": [
    "XX2_train, XX2_test, yy2_train, yy2_test = train_test_split(X2_train_reduced , y2_train, test_size=0.2, random_state=42)\n",
    "print(XX2_train.shape, yy2_train.shape)\n",
    "print(XX2_test.shape, yy2_test.shape)"
   ]
  },
  {
   "cell_type": "code",
   "execution_count": 20,
   "metadata": {},
   "outputs": [
    {
     "name": "stdout",
     "output_type": "stream",
     "text": [
      "Model #1\n",
      "Best MAE: -1.9107\n",
      "Best params: {'bagging_fraction': 0.705051979426657, 'colsample_bytree': 0.7304484857455519, 'feature_fraction': 0.966433999423917, 'learning_rate': 0.02263198373948195, 'max_depth': 14, 'min_child_weight': 4, 'n_estimators': 1761, 'num_leaves': 190, 'reg_alpha': 5.497557739289786e-07, 'reg_lambda': 0.05936070635912049, 'subsample': 0.5544643023916863, 'subsample_freq': 1}\n",
      "\n",
      "Model #2\n",
      "Best MAE: -1.9025\n",
      "Best params: {'bagging_fraction': 0.9186941777766422, 'colsample_bytree': 0.8844821246070537, 'feature_fraction': 0.6517050549420875, 'learning_rate': 0.04804895626373318, 'max_depth': 18, 'min_child_weight': 1, 'n_estimators': 700, 'num_leaves': 92, 'reg_alpha': 0.0005266983003701547, 'reg_lambda': 276.5424475574225, 'subsample': 0.6336020558163782, 'subsample_freq': 10}\n",
      "\n",
      "Model #3\n",
      "Best MAE: -1.8913\n",
      "Best params: {'bagging_fraction': 0.7224162561505759, 'colsample_bytree': 0.9195352964526833, 'feature_fraction': 0.5524295792763518, 'learning_rate': 0.027333312074809005, 'max_depth': 5, 'min_child_weight': 5, 'n_estimators': 786, 'num_leaves': 193, 'reg_alpha': 0.00010376808625045426, 'reg_lambda': 476.96194787286544, 'subsample': 0.7064328557952411, 'subsample_freq': 4}\n",
      "\n",
      "Model #4\n",
      "Best MAE: -1.8913\n",
      "Best params: {'bagging_fraction': 0.7224162561505759, 'colsample_bytree': 0.9195352964526833, 'feature_fraction': 0.5524295792763518, 'learning_rate': 0.027333312074809005, 'max_depth': 5, 'min_child_weight': 5, 'n_estimators': 786, 'num_leaves': 193, 'reg_alpha': 0.00010376808625045426, 'reg_lambda': 476.96194787286544, 'subsample': 0.7064328557952411, 'subsample_freq': 4}\n",
      "\n",
      "Model #5\n",
      "Best MAE: -1.8913\n",
      "Best params: {'bagging_fraction': 0.7224162561505759, 'colsample_bytree': 0.9195352964526833, 'feature_fraction': 0.5524295792763518, 'learning_rate': 0.027333312074809005, 'max_depth': 5, 'min_child_weight': 5, 'n_estimators': 786, 'num_leaves': 193, 'reg_alpha': 0.00010376808625045426, 'reg_lambda': 476.96194787286544, 'subsample': 0.7064328557952411, 'subsample_freq': 4}\n",
      "\n",
      "Model #6\n",
      "Best MAE: -1.8868\n",
      "Best params: {'bagging_fraction': 0.8670140089927842, 'colsample_bytree': 0.9399760402267441, 'feature_fraction': 0.5818035893192751, 'learning_rate': 0.017537011670617206, 'max_depth': 16, 'min_child_weight': 4, 'n_estimators': 2301, 'num_leaves': 138, 'reg_alpha': 0.011683028450342707, 'reg_lambda': 0.0048879464985534336, 'subsample': 0.5930070264428381, 'subsample_freq': 6}\n",
      "\n",
      "Model #7\n",
      "Best MAE: -1.8868\n",
      "Best params: {'bagging_fraction': 0.8670140089927842, 'colsample_bytree': 0.9399760402267441, 'feature_fraction': 0.5818035893192751, 'learning_rate': 0.017537011670617206, 'max_depth': 16, 'min_child_weight': 4, 'n_estimators': 2301, 'num_leaves': 138, 'reg_alpha': 0.011683028450342707, 'reg_lambda': 0.0048879464985534336, 'subsample': 0.5930070264428381, 'subsample_freq': 6}\n",
      "\n",
      "Model #8\n",
      "Best MAE: -1.8868\n",
      "Best params: {'bagging_fraction': 0.8670140089927842, 'colsample_bytree': 0.9399760402267441, 'feature_fraction': 0.5818035893192751, 'learning_rate': 0.017537011670617206, 'max_depth': 16, 'min_child_weight': 4, 'n_estimators': 2301, 'num_leaves': 138, 'reg_alpha': 0.011683028450342707, 'reg_lambda': 0.0048879464985534336, 'subsample': 0.5930070264428381, 'subsample_freq': 6}\n",
      "\n",
      "Model #9\n",
      "Best MAE: -1.8868\n",
      "Best params: {'bagging_fraction': 0.8670140089927842, 'colsample_bytree': 0.9399760402267441, 'feature_fraction': 0.5818035893192751, 'learning_rate': 0.017537011670617206, 'max_depth': 16, 'min_child_weight': 4, 'n_estimators': 2301, 'num_leaves': 138, 'reg_alpha': 0.011683028450342707, 'reg_lambda': 0.0048879464985534336, 'subsample': 0.5930070264428381, 'subsample_freq': 6}\n",
      "\n",
      "Model #10\n",
      "Best MAE: -1.8868\n",
      "Best params: {'bagging_fraction': 0.8670140089927842, 'colsample_bytree': 0.9399760402267441, 'feature_fraction': 0.5818035893192751, 'learning_rate': 0.017537011670617206, 'max_depth': 16, 'min_child_weight': 4, 'n_estimators': 2301, 'num_leaves': 138, 'reg_alpha': 0.011683028450342707, 'reg_lambda': 0.0048879464985534336, 'subsample': 0.5930070264428381, 'subsample_freq': 6}\n",
      "\n",
      "Model #11\n",
      "Best MAE: -1.8868\n",
      "Best params: {'bagging_fraction': 0.8670140089927842, 'colsample_bytree': 0.9399760402267441, 'feature_fraction': 0.5818035893192751, 'learning_rate': 0.017537011670617206, 'max_depth': 16, 'min_child_weight': 4, 'n_estimators': 2301, 'num_leaves': 138, 'reg_alpha': 0.011683028450342707, 'reg_lambda': 0.0048879464985534336, 'subsample': 0.5930070264428381, 'subsample_freq': 6}\n",
      "\n",
      "Model #12\n",
      "Best MAE: -1.8868\n",
      "Best params: {'bagging_fraction': 0.8670140089927842, 'colsample_bytree': 0.9399760402267441, 'feature_fraction': 0.5818035893192751, 'learning_rate': 0.017537011670617206, 'max_depth': 16, 'min_child_weight': 4, 'n_estimators': 2301, 'num_leaves': 138, 'reg_alpha': 0.011683028450342707, 'reg_lambda': 0.0048879464985534336, 'subsample': 0.5930070264428381, 'subsample_freq': 6}\n",
      "\n",
      "Model #13\n",
      "Best MAE: -1.8856\n",
      "Best params: {'bagging_fraction': 0.7660924331888082, 'colsample_bytree': 0.9970324276670861, 'feature_fraction': 0.5466587258379904, 'learning_rate': 0.024903031906101745, 'max_depth': 2, 'min_child_weight': 10, 'n_estimators': 629, 'num_leaves': 251, 'reg_alpha': 1.1936642247395811e-07, 'reg_lambda': 259.2267025060712, 'subsample': 0.43316781836868096, 'subsample_freq': 3}\n",
      "\n",
      "Model #14\n",
      "Best MAE: -1.8856\n",
      "Best params: {'bagging_fraction': 0.7660924331888082, 'colsample_bytree': 0.9970324276670861, 'feature_fraction': 0.5466587258379904, 'learning_rate': 0.024903031906101745, 'max_depth': 2, 'min_child_weight': 10, 'n_estimators': 629, 'num_leaves': 251, 'reg_alpha': 1.1936642247395811e-07, 'reg_lambda': 259.2267025060712, 'subsample': 0.43316781836868096, 'subsample_freq': 3}\n",
      "\n",
      "Model #15\n",
      "Best MAE: -1.8856\n",
      "Best params: {'bagging_fraction': 0.7660924331888082, 'colsample_bytree': 0.9970324276670861, 'feature_fraction': 0.5466587258379904, 'learning_rate': 0.024903031906101745, 'max_depth': 2, 'min_child_weight': 10, 'n_estimators': 629, 'num_leaves': 251, 'reg_alpha': 1.1936642247395811e-07, 'reg_lambda': 259.2267025060712, 'subsample': 0.43316781836868096, 'subsample_freq': 3}\n",
      "\n",
      "Model #16\n",
      "Best MAE: -1.8856\n",
      "Best params: {'bagging_fraction': 0.7660924331888082, 'colsample_bytree': 0.9970324276670861, 'feature_fraction': 0.5466587258379904, 'learning_rate': 0.024903031906101745, 'max_depth': 2, 'min_child_weight': 10, 'n_estimators': 629, 'num_leaves': 251, 'reg_alpha': 1.1936642247395811e-07, 'reg_lambda': 259.2267025060712, 'subsample': 0.43316781836868096, 'subsample_freq': 3}\n",
      "\n",
      "Model #17\n",
      "Best MAE: -1.8823\n",
      "Best params: {'bagging_fraction': 0.7971279436272822, 'colsample_bytree': 0.9792929201665225, 'feature_fraction': 0.5828281310022894, 'learning_rate': 0.027203487011707043, 'max_depth': 3, 'min_child_weight': 10, 'n_estimators': 706, 'num_leaves': 243, 'reg_alpha': 2.2703134668787435e-07, 'reg_lambda': 122.46781185567828, 'subsample': 0.48035795931229164, 'subsample_freq': 3}\n",
      "\n",
      "Model #18\n",
      "Best MAE: -1.8823\n",
      "Best params: {'bagging_fraction': 0.7971279436272822, 'colsample_bytree': 0.9792929201665225, 'feature_fraction': 0.5828281310022894, 'learning_rate': 0.027203487011707043, 'max_depth': 3, 'min_child_weight': 10, 'n_estimators': 706, 'num_leaves': 243, 'reg_alpha': 2.2703134668787435e-07, 'reg_lambda': 122.46781185567828, 'subsample': 0.48035795931229164, 'subsample_freq': 3}\n",
      "\n",
      "Model #19\n",
      "Best MAE: -1.8823\n",
      "Best params: {'bagging_fraction': 0.7971279436272822, 'colsample_bytree': 0.9792929201665225, 'feature_fraction': 0.5828281310022894, 'learning_rate': 0.027203487011707043, 'max_depth': 3, 'min_child_weight': 10, 'n_estimators': 706, 'num_leaves': 243, 'reg_alpha': 2.2703134668787435e-07, 'reg_lambda': 122.46781185567828, 'subsample': 0.48035795931229164, 'subsample_freq': 3}\n",
      "\n",
      "Model #20\n",
      "Best MAE: -1.8823\n",
      "Best params: {'bagging_fraction': 0.7971279436272822, 'colsample_bytree': 0.9792929201665225, 'feature_fraction': 0.5828281310022894, 'learning_rate': 0.027203487011707043, 'max_depth': 3, 'min_child_weight': 10, 'n_estimators': 706, 'num_leaves': 243, 'reg_alpha': 2.2703134668787435e-07, 'reg_lambda': 122.46781185567828, 'subsample': 0.48035795931229164, 'subsample_freq': 3}\n",
      "\n",
      "Model #21\n",
      "Best MAE: -1.8823\n",
      "Best params: {'bagging_fraction': 0.7971279436272822, 'colsample_bytree': 0.9792929201665225, 'feature_fraction': 0.5828281310022894, 'learning_rate': 0.027203487011707043, 'max_depth': 3, 'min_child_weight': 10, 'n_estimators': 706, 'num_leaves': 243, 'reg_alpha': 2.2703134668787435e-07, 'reg_lambda': 122.46781185567828, 'subsample': 0.48035795931229164, 'subsample_freq': 3}\n"
     ]
    },
    {
     "name": "stdout",
     "output_type": "stream",
     "text": [
      "\n",
      "Model #22\n",
      "Best MAE: -1.8823\n",
      "Best params: {'bagging_fraction': 0.7971279436272822, 'colsample_bytree': 0.9792929201665225, 'feature_fraction': 0.5828281310022894, 'learning_rate': 0.027203487011707043, 'max_depth': 3, 'min_child_weight': 10, 'n_estimators': 706, 'num_leaves': 243, 'reg_alpha': 2.2703134668787435e-07, 'reg_lambda': 122.46781185567828, 'subsample': 0.48035795931229164, 'subsample_freq': 3}\n",
      "\n",
      "Model #23\n",
      "Best MAE: -1.8823\n",
      "Best params: {'bagging_fraction': 0.7971279436272822, 'colsample_bytree': 0.9792929201665225, 'feature_fraction': 0.5828281310022894, 'learning_rate': 0.027203487011707043, 'max_depth': 3, 'min_child_weight': 10, 'n_estimators': 706, 'num_leaves': 243, 'reg_alpha': 2.2703134668787435e-07, 'reg_lambda': 122.46781185567828, 'subsample': 0.48035795931229164, 'subsample_freq': 3}\n",
      "\n",
      "Model #24\n",
      "Best MAE: -1.8823\n",
      "Best params: {'bagging_fraction': 0.7971279436272822, 'colsample_bytree': 0.9792929201665225, 'feature_fraction': 0.5828281310022894, 'learning_rate': 0.027203487011707043, 'max_depth': 3, 'min_child_weight': 10, 'n_estimators': 706, 'num_leaves': 243, 'reg_alpha': 2.2703134668787435e-07, 'reg_lambda': 122.46781185567828, 'subsample': 0.48035795931229164, 'subsample_freq': 3}\n",
      "\n",
      "Model #25\n",
      "Best MAE: -1.8823\n",
      "Best params: {'bagging_fraction': 0.7971279436272822, 'colsample_bytree': 0.9792929201665225, 'feature_fraction': 0.5828281310022894, 'learning_rate': 0.027203487011707043, 'max_depth': 3, 'min_child_weight': 10, 'n_estimators': 706, 'num_leaves': 243, 'reg_alpha': 2.2703134668787435e-07, 'reg_lambda': 122.46781185567828, 'subsample': 0.48035795931229164, 'subsample_freq': 3}\n",
      "\n",
      "Model #26\n",
      "Best MAE: -1.8823\n",
      "Best params: {'bagging_fraction': 0.7971279436272822, 'colsample_bytree': 0.9792929201665225, 'feature_fraction': 0.5828281310022894, 'learning_rate': 0.027203487011707043, 'max_depth': 3, 'min_child_weight': 10, 'n_estimators': 706, 'num_leaves': 243, 'reg_alpha': 2.2703134668787435e-07, 'reg_lambda': 122.46781185567828, 'subsample': 0.48035795931229164, 'subsample_freq': 3}\n",
      "\n",
      "Model #27\n",
      "Best MAE: -1.8823\n",
      "Best params: {'bagging_fraction': 0.7971279436272822, 'colsample_bytree': 0.9792929201665225, 'feature_fraction': 0.5828281310022894, 'learning_rate': 0.027203487011707043, 'max_depth': 3, 'min_child_weight': 10, 'n_estimators': 706, 'num_leaves': 243, 'reg_alpha': 2.2703134668787435e-07, 'reg_lambda': 122.46781185567828, 'subsample': 0.48035795931229164, 'subsample_freq': 3}\n",
      "\n",
      "Model #28\n",
      "Best MAE: -1.8823\n",
      "Best params: {'bagging_fraction': 0.7971279436272822, 'colsample_bytree': 0.9792929201665225, 'feature_fraction': 0.5828281310022894, 'learning_rate': 0.027203487011707043, 'max_depth': 3, 'min_child_weight': 10, 'n_estimators': 706, 'num_leaves': 243, 'reg_alpha': 2.2703134668787435e-07, 'reg_lambda': 122.46781185567828, 'subsample': 0.48035795931229164, 'subsample_freq': 3}\n",
      "\n",
      "Model #29\n",
      "Best MAE: -1.8823\n",
      "Best params: {'bagging_fraction': 0.7971279436272822, 'colsample_bytree': 0.9792929201665225, 'feature_fraction': 0.5828281310022894, 'learning_rate': 0.027203487011707043, 'max_depth': 3, 'min_child_weight': 10, 'n_estimators': 706, 'num_leaves': 243, 'reg_alpha': 2.2703134668787435e-07, 'reg_lambda': 122.46781185567828, 'subsample': 0.48035795931229164, 'subsample_freq': 3}\n",
      "\n",
      "Model #30\n",
      "Best MAE: -1.8823\n",
      "Best params: {'bagging_fraction': 0.7971279436272822, 'colsample_bytree': 0.9792929201665225, 'feature_fraction': 0.5828281310022894, 'learning_rate': 0.027203487011707043, 'max_depth': 3, 'min_child_weight': 10, 'n_estimators': 706, 'num_leaves': 243, 'reg_alpha': 2.2703134668787435e-07, 'reg_lambda': 122.46781185567828, 'subsample': 0.48035795931229164, 'subsample_freq': 3}\n",
      "\n"
     ]
    }
   ],
   "source": [
    "result = bayes_cv_tuner.fit(XX2_train, yy2_train, callback=status_print)"
   ]
  },
  {
   "cell_type": "code",
   "execution_count": 21,
   "metadata": {},
   "outputs": [
    {
     "name": "stdout",
     "output_type": "stream",
     "text": [
      "-1.8823464537754624\n",
      "{'bagging_fraction': 0.7971279436272822, 'colsample_bytree': 0.9792929201665225, 'feature_fraction': 0.5828281310022894, 'learning_rate': 0.027203487011707043, 'max_depth': 3, 'min_child_weight': 10, 'n_estimators': 706, 'num_leaves': 243, 'reg_alpha': 2.2703134668787435e-07, 'reg_lambda': 122.46781185567828, 'subsample': 0.48035795931229164, 'subsample_freq': 3}\n"
     ]
    }
   ],
   "source": [
    "print(result.best_score_)\n",
    "print(result.best_params_)"
   ]
  },
  {
   "cell_type": "code",
   "execution_count": 22,
   "metadata": {},
   "outputs": [],
   "source": [
    "lgb_model2 = result.best_estimator_"
   ]
  },
  {
   "cell_type": "code",
   "execution_count": 23,
   "metadata": {},
   "outputs": [
    {
     "name": "stdout",
     "output_type": "stream",
     "text": [
      "1.8807917531082945\n"
     ]
    }
   ],
   "source": [
    "yy_test_hat = lgb_model2.predict(XX2_test)\n",
    "lgb_MAE2 = mean_absolute_error(yy2_test, yy_test_hat)\n",
    "print(lgb_MAE2)"
   ]
  },
  {
   "cell_type": "markdown",
   "metadata": {},
   "source": [
    "with open('lgb2_bo.pkl', 'wb') as fid:\n",
    "    pickle.dump(lgb_model2, fid)"
   ]
  },
  {
   "cell_type": "code",
   "execution_count": 24,
   "metadata": {},
   "outputs": [
    {
     "name": "stdout",
     "output_type": "stream",
     "text": [
      "1.8920002293583738\n"
     ]
    }
   ],
   "source": [
    "# add a default lgb model\n",
    "lgb_model2d = lgb.LGBMRegressor(boosting_type='gbdt', object='regression', random_state=42)\n",
    "lgb_model2d.fit(XX2_train, yy2_train, eval_metric='mae')\n",
    "yy_test_hat = lgb_model2d.predict(XX2_test)\n",
    "lgb_MAE2d = mean_absolute_error(yy2_test, yy_test_hat)\n",
    "print(lgb_MAE2d)"
   ]
  },
  {
   "cell_type": "markdown",
   "metadata": {},
   "source": [
    "with open('lgb2_default.pkl', 'wb') as fid:\n",
    "    pickle.dump(lgb_model2d, fid)"
   ]
  },
  {
   "cell_type": "markdown",
   "metadata": {},
   "source": [
    "---\n",
    "\n",
    "Add a default lgb model for all (8 sets) training data"
   ]
  },
  {
   "cell_type": "code",
   "execution_count": 25,
   "metadata": {},
   "outputs": [
    {
     "name": "stdout",
     "output_type": "stream",
     "text": [
      "(4800, 717)\n",
      "(4800,)\n",
      "(1200, 717)\n",
      "(1200,)\n"
     ]
    }
   ],
   "source": [
    "XX12_train = pd.concat([XX1_train, XX2_train], ignore_index=True)\n",
    "yy12_train = pd.concat([yy1_train, yy2_train], ignore_index=True)\n",
    "XX12_test = pd.concat([XX1_test, XX2_test], ignore_index=True)\n",
    "yy12_test = pd.concat([yy1_test, yy2_test], ignore_index=True)\n",
    "print(XX12_train.shape)\n",
    "print(yy12_train.shape)\n",
    "print(XX12_test.shape)\n",
    "print(yy12_test.shape)\n"
   ]
  },
  {
   "cell_type": "code",
   "execution_count": 26,
   "metadata": {},
   "outputs": [
    {
     "name": "stdout",
     "output_type": "stream",
     "text": [
      "1.784563789063644\n"
     ]
    }
   ],
   "source": [
    "lgb_model0d = lgb.LGBMRegressor(boosting_type='gbdt', object='regression', random_state=42)\n",
    "lgb_model0d.fit(XX12_train, yy12_train, eval_metric='mae')\n",
    "yy_test_hat = lgb_model0d.predict(XX12_test)\n",
    "lgb_MAE0d = mean_absolute_error(yy12_test, yy_test_hat)\n",
    "print(lgb_MAE0d)"
   ]
  },
  {
   "cell_type": "markdown",
   "metadata": {},
   "source": [
    "with open('lgb0_default.pkl', 'wb') as fid:\n",
    "    pickle.dump(lgb_model0d, fid)"
   ]
  },
  {
   "cell_type": "markdown",
   "metadata": {},
   "source": [
    "---\n",
    "## Final start from here"
   ]
  },
  {
   "cell_type": "code",
   "execution_count": 38,
   "metadata": {},
   "outputs": [],
   "source": [
    "svr_cv_tuner = BayesSearchCV(\n",
    "    estimator = SVR(),\n",
    "    search_spaces = {\n",
    "        'C': (1e-6, 1e+6, 'log-uniform'),  \n",
    "        'gamma': (1e-6, 1e+1, 'log-uniform'),\n",
    "        'epsilon': (1e-6, 1e+1, 'log-uniform'),\n",
    "        'kernel': ['rbf'],  # categorical parameter\n",
    "    },    \n",
    "    scoring = 'neg_mean_absolute_error',\n",
    "    cv = KFold(shuffle=True, random_state=42),\n",
    "    n_iter = 30,   \n",
    "    verbose = 0,\n",
    "    refit = True,\n",
    "    random_state = 42\n",
    ")"
   ]
  },
  {
   "cell_type": "code",
   "execution_count": 28,
   "metadata": {},
   "outputs": [],
   "source": [
    "def svr_status_print(optim_result):\n",
    "    \"\"\"Status callback durring bayesian hyperparameter search\"\"\"\n",
    "    \n",
    "    # Get all the models tested so far in DataFrame format\n",
    "    all_models = pd.DataFrame(svr_cv_tuner.cv_results_)    \n",
    "    \n",
    "    # Get current parameters and the best parameters    \n",
    "    best_params = pd.Series(svr_cv_tuner.best_params_)\n",
    "    print('Model #{}\\nBest MAE: {}\\nBest params: {}\\n'.format(\n",
    "        len(all_models),\n",
    "        np.round(svr_cv_tuner.best_score_, 4),\n",
    "        svr_cv_tuner.best_params_\n",
    "    ))"
   ]
  },
  {
   "cell_type": "markdown",
   "metadata": {},
   "source": [
    "with open('lgb0_default.pkl','rb') as fid:\n",
    "    lgb_model0d = pickle.load(fid)\n",
    "    \n",
    "with open('lgb1_default.pkl','rb') as fid:\n",
    "    lgb_model1d = pickle.load(fid)\n",
    "    \n",
    "with open('lgb1_bo.pkl','rb') as fid:\n",
    "    lgb_model1 = pickle.load(fid)\n",
    "    \n",
    "with open('lgb2_default.pkl','rb') as fid:\n",
    "    lgb_model2d = pickle.load(fid)\n",
    "    \n",
    "with open('lgb2_bo.pkl','rb') as fid:\n",
    "    lgb_model2 = pickle.load(fid)"
   ]
  },
  {
   "cell_type": "code",
   "execution_count": 29,
   "metadata": {},
   "outputs": [
    {
     "name": "stdout",
     "output_type": "stream",
     "text": [
      "(1200, 3)\n",
      "          0         1         2\n",
      "0  9.640654  9.399276  9.973347\n",
      "1  3.111947  3.641285  3.388832\n",
      "2  8.208186  8.581705  8.690141\n",
      "3  4.155285  4.822063  3.077576\n",
      "4  2.307458  3.144112  2.466820\n"
     ]
    }
   ],
   "source": [
    "temp1 = pd.Series(lgb_model0d.predict(XX12_test))\n",
    "temp3 = pd.Series(lgb_model1.predict(XX12_test))\n",
    "temp5 = pd.Series(lgb_model2.predict(XX12_test))\n",
    "tempDF = pd.concat([temp1,temp3,temp5], axis=1, ignore_index=True)\n",
    "print(tempDF.shape)\n",
    "print(tempDF.head())"
   ]
  },
  {
   "cell_type": "code",
   "execution_count": 30,
   "metadata": {},
   "outputs": [
    {
     "name": "stdout",
     "output_type": "stream",
     "text": [
      "Model #1\n",
      "Best MAE: -2.8738\n",
      "Best params: {'C': 0.08341564384216595, 'degree': 6, 'epsilon': 3.389034515643755, 'gamma': 0.00016240416181810798, 'kernel': 'rbf'}\n",
      "\n",
      "Model #2\n",
      "Best MAE: -2.8738\n",
      "Best params: {'C': 0.08341564384216595, 'degree': 6, 'epsilon': 3.389034515643755, 'gamma': 0.00016240416181810798, 'kernel': 'rbf'}\n",
      "\n",
      "Model #3\n",
      "Best MAE: -1.8962\n",
      "Best params: {'C': 0.21776603694820984, 'degree': 7, 'epsilon': 5.420184998488358e-06, 'gamma': 0.0010797659128262546, 'kernel': 'rbf'}\n",
      "\n",
      "Model #4\n",
      "Best MAE: -1.8962\n",
      "Best params: {'C': 0.21776603694820984, 'degree': 7, 'epsilon': 5.420184998488358e-06, 'gamma': 0.0010797659128262546, 'kernel': 'rbf'}\n",
      "\n",
      "Model #5\n",
      "Best MAE: -1.8962\n",
      "Best params: {'C': 0.21776603694820984, 'degree': 7, 'epsilon': 5.420184998488358e-06, 'gamma': 0.0010797659128262546, 'kernel': 'rbf'}\n",
      "\n",
      "Model #6\n",
      "Best MAE: -1.7643\n",
      "Best params: {'C': 643.1854566491933, 'degree': 8, 'epsilon': 1.3971732124886836e-05, 'gamma': 2.084380695810582e-05, 'kernel': 'rbf'}\n",
      "\n",
      "Model #7\n",
      "Best MAE: -1.7643\n",
      "Best params: {'C': 643.1854566491933, 'degree': 8, 'epsilon': 1.3971732124886836e-05, 'gamma': 2.084380695810582e-05, 'kernel': 'rbf'}\n",
      "\n",
      "Model #8\n",
      "Best MAE: -1.7643\n",
      "Best params: {'C': 643.1854566491933, 'degree': 8, 'epsilon': 1.3971732124886836e-05, 'gamma': 2.084380695810582e-05, 'kernel': 'rbf'}\n",
      "\n",
      "Model #9\n",
      "Best MAE: -1.7643\n",
      "Best params: {'C': 643.1854566491933, 'degree': 8, 'epsilon': 1.3971732124886836e-05, 'gamma': 2.084380695810582e-05, 'kernel': 'rbf'}\n",
      "\n",
      "Model #10\n",
      "Best MAE: -1.7643\n",
      "Best params: {'C': 643.1854566491933, 'degree': 8, 'epsilon': 1.3971732124886836e-05, 'gamma': 2.084380695810582e-05, 'kernel': 'rbf'}\n",
      "\n",
      "Model #11\n",
      "Best MAE: -1.7643\n",
      "Best params: {'C': 643.1854566491933, 'degree': 8, 'epsilon': 1.3971732124886836e-05, 'gamma': 2.084380695810582e-05, 'kernel': 'rbf'}\n",
      "\n",
      "Model #12\n",
      "Best MAE: -1.7643\n",
      "Best params: {'C': 643.1854566491933, 'degree': 8, 'epsilon': 1.3971732124886836e-05, 'gamma': 2.084380695810582e-05, 'kernel': 'rbf'}\n",
      "\n",
      "Model #13\n",
      "Best MAE: -1.7633\n",
      "Best params: {'C': 727422.3705426904, 'degree': 6, 'epsilon': 1e-06, 'gamma': 1e-06, 'kernel': 'rbf'}\n",
      "\n",
      "Model #14\n",
      "Best MAE: -1.7633\n",
      "Best params: {'C': 727422.3705426904, 'degree': 6, 'epsilon': 1e-06, 'gamma': 1e-06, 'kernel': 'rbf'}\n",
      "\n",
      "Model #15\n",
      "Best MAE: -1.7633\n",
      "Best params: {'C': 727422.3705426904, 'degree': 6, 'epsilon': 1e-06, 'gamma': 1e-06, 'kernel': 'rbf'}\n",
      "\n",
      "Model #16\n",
      "Best MAE: -1.7633\n",
      "Best params: {'C': 727422.3705426904, 'degree': 6, 'epsilon': 1e-06, 'gamma': 1e-06, 'kernel': 'rbf'}\n",
      "\n",
      "Model #17\n",
      "Best MAE: -1.7633\n",
      "Best params: {'C': 727422.3705426904, 'degree': 6, 'epsilon': 1e-06, 'gamma': 1e-06, 'kernel': 'rbf'}\n",
      "\n",
      "Model #18\n",
      "Best MAE: -1.7633\n",
      "Best params: {'C': 727422.3705426904, 'degree': 6, 'epsilon': 1e-06, 'gamma': 1e-06, 'kernel': 'rbf'}\n",
      "\n",
      "Model #19\n",
      "Best MAE: -1.7633\n",
      "Best params: {'C': 727422.3705426904, 'degree': 6, 'epsilon': 1e-06, 'gamma': 1e-06, 'kernel': 'rbf'}\n",
      "\n",
      "Model #20\n",
      "Best MAE: -1.7633\n",
      "Best params: {'C': 727422.3705426904, 'degree': 6, 'epsilon': 1e-06, 'gamma': 1e-06, 'kernel': 'rbf'}\n",
      "\n"
     ]
    }
   ],
   "source": [
    "result = svr_cv_tuner.fit(tempDF, yy12_test, callback=svr_status_print)"
   ]
  },
  {
   "cell_type": "code",
   "execution_count": 31,
   "metadata": {},
   "outputs": [
    {
     "name": "stdout",
     "output_type": "stream",
     "text": [
      "-1.763334719687103\n",
      "{'C': 727422.3705426904, 'degree': 6, 'epsilon': 1e-06, 'gamma': 1e-06, 'kernel': 'rbf'}\n"
     ]
    }
   ],
   "source": [
    "print(result.best_score_)\n",
    "print(result.best_params_)"
   ]
  },
  {
   "cell_type": "code",
   "execution_count": 32,
   "metadata": {},
   "outputs": [],
   "source": [
    "# final model\n",
    "Fmodel = result.best_estimator_"
   ]
  },
  {
   "cell_type": "markdown",
   "metadata": {},
   "source": [
    "---\n",
    "## Submission"
   ]
  },
  {
   "cell_type": "code",
   "execution_count": 34,
   "metadata": {},
   "outputs": [
    {
     "name": "stdout",
     "output_type": "stream",
     "text": [
      "(2624, 717)\n"
     ]
    }
   ],
   "source": [
    "X_test = pd.read_pickle('Xtest_DF788.pkl')\n",
    "X_test= X_test.drop(feature2drop,axis=1)\n",
    "print(X_test.shape)"
   ]
  },
  {
   "cell_type": "code",
   "execution_count": 35,
   "metadata": {},
   "outputs": [
    {
     "name": "stdout",
     "output_type": "stream",
     "text": [
      "(2624, 3)\n",
      "          0         1         2\n",
      "0  3.411266  4.008003  4.211504\n",
      "1  4.932262  5.429075  5.676272\n",
      "2  6.201557  5.959195  6.116863\n",
      "3  8.131583  7.283381  8.136434\n",
      "4  6.210477  6.076866  6.163148\n"
     ]
    }
   ],
   "source": [
    "temp1 = pd.Series(lgb_model0d.predict(X_test))\n",
    "temp3 = pd.Series(lgb_model1.predict(X_test))\n",
    "temp5 = pd.Series(lgb_model2.predict(X_test))\n",
    "tempDF = pd.concat([temp1,temp3,temp5], axis=1, ignore_index=True)\n",
    "print(tempDF.shape)\n",
    "print(tempDF.head())"
   ]
  },
  {
   "cell_type": "code",
   "execution_count": 36,
   "metadata": {},
   "outputs": [
    {
     "name": "stdout",
     "output_type": "stream",
     "text": [
      "(2624,)\n",
      "[3.34159248 4.98661114 6.04580362 8.0004566  6.09624519 1.8812236\n",
      " 6.42284252 3.32941823 4.68042215 1.43017059]\n"
     ]
    }
   ],
   "source": [
    "y_hat = Fmodel.predict(tempDF)\n",
    "print(y_hat.shape)\n",
    "print(y_hat[:10])"
   ]
  },
  {
   "cell_type": "code",
   "execution_count": 37,
   "metadata": {},
   "outputs": [],
   "source": [
    "submission = pd.read_csv('sample_submission.csv', index_col='seg_id')\n",
    "submission['time_to_failure'] = y_hat.clip(0, 16)\n",
    "submission.to_csv('submission_lgb_svr_03.csv')"
   ]
  },
  {
   "cell_type": "code",
   "execution_count": null,
   "metadata": {},
   "outputs": [],
   "source": []
  }
 ],
 "metadata": {
  "kernelspec": {
   "display_name": "Python 3",
   "language": "python",
   "name": "python3"
  },
  "language_info": {
   "codemirror_mode": {
    "name": "ipython",
    "version": 3
   },
   "file_extension": ".py",
   "mimetype": "text/x-python",
   "name": "python",
   "nbconvert_exporter": "python",
   "pygments_lexer": "ipython3",
   "version": "3.6.5"
  }
 },
 "nbformat": 4,
 "nbformat_minor": 1
}
